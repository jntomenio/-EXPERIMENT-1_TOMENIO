{
 "cells": [
  {
   "cell_type": "markdown",
   "id": "13e833d5-5289-4c02-85a1-45e22b941358",
   "metadata": {},
   "source": [
    "## **EXPERIMENT #1 - Introduction to Python Programming**\n",
    "### Name: Tomenio, Julian Bernice Kristoffer\n",
    "### Section: 2ECE-A\n",
    "\n",
    "#### Date Submitted: August 27, 2024"
   ]
  },
  {
   "cell_type": "markdown",
   "id": "7df5fc8d-73ed-43ab-8cf1-6f5d94a9cb5d",
   "metadata": {},
   "source": [
    "## Alphabet Soup Problem"
   ]
  },
  {
   "cell_type": "code",
   "execution_count": 105,
   "id": "be954e5e-cebc-4dc4-b5cc-aecb9c09ae9d",
   "metadata": {},
   "outputs": [
    {
     "name": "stdin",
     "output_type": "stream",
     "text": [
      "Enter the word you want to re-arrange in alphabetical order: KRISTOFFER\n"
     ]
    },
    {
     "name": "stdout",
     "output_type": "stream",
     "text": [
      "EFFIKORRST\n"
     ]
    }
   ],
   "source": [
    "def alphabet_soup(x):\n",
    "    sorted(x)\n",
    "    string=''.join(sorted(x))\n",
    "    print(string)\n",
    "\n",
    "y = input(\"Enter the word you want to re-arrange in alphabetical order:\")\n",
    "alphabet_soup(y)"
   ]
  },
  {
   "cell_type": "markdown",
   "id": "8193b9c1-3f5d-4a98-bd9f-88f3b402a386",
   "metadata": {},
   "source": [
    "## Emoticon Problem"
   ]
  },
  {
   "cell_type": "code",
   "execution_count": 111,
   "id": "dd93f132-e516-48d0-b00f-98c44c1632f5",
   "metadata": {},
   "outputs": [
    {
     "name": "stdin",
     "output_type": "stream",
     "text": [
      "Enter what you feel right now: Julian is Sad\n"
     ]
    },
    {
     "name": "stdout",
     "output_type": "stream",
     "text": [
      "Julian is :((\n"
     ]
    }
   ],
   "source": [
    "def emotify(feel):\n",
    "\n",
    "    feel = feel.replace(\"Smile\", \":)\")\n",
    "    feel = feel.replace(\"Grin\", \":D\")\n",
    "    feel = feel.replace(\"Sad\", \":((\")\n",
    "    feel = feel.replace(\"Mad\", \">:(\")\n",
    "    return feel\n",
    "\n",
    "feel = input(\"Enter what you feel right now:\")\n",
    "print (emotify(feel))"
   ]
  },
  {
   "cell_type": "markdown",
   "id": "4114b556-c759-46c0-bdc6-897cfe2c9ca4",
   "metadata": {},
   "source": [
    "## Unpacking List Problem"
   ]
  },
  {
   "cell_type": "code",
   "execution_count": 119,
   "id": "3c80b5b2-6abf-4a1f-bcc5-9a182c9c8846",
   "metadata": {},
   "outputs": [],
   "source": [
    "Book = [1,2,3,4,5,6]\n",
    "\n",
    "first = Book[0]\n",
    "middle = Book[1:-1]\n",
    "last = Book[-1]"
   ]
  },
  {
   "cell_type": "code",
   "execution_count": 121,
   "id": "3725d005-7cf0-4ba2-8346-9f0c82c8b6bf",
   "metadata": {},
   "outputs": [
    {
     "name": "stdout",
     "output_type": "stream",
     "text": [
      "First Variable: 1      Midlle Variables: [2, 3, 4, 5]      Last Variable: 6\n"
     ]
    }
   ],
   "source": [
    "print(\"First Variable: \" + str(first), \"     Midlle Variables: \" + str(middle), \"     Last Variable: \" + str(last))"
   ]
  }
 ],
 "metadata": {
  "kernelspec": {
   "display_name": "Python 3 (ipykernel)",
   "language": "python",
   "name": "python3"
  },
  "language_info": {
   "codemirror_mode": {
    "name": "ipython",
    "version": 3
   },
   "file_extension": ".py",
   "mimetype": "text/x-python",
   "name": "python",
   "nbconvert_exporter": "python",
   "pygments_lexer": "ipython3",
   "version": "3.12.4"
  }
 },
 "nbformat": 4,
 "nbformat_minor": 5
}
